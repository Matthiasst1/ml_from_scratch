{
 "cells": [
  {
   "cell_type": "code",
   "execution_count": 6,
   "metadata": {},
   "outputs": [
    {
     "name": "stderr",
     "output_type": "stream",
     "text": [
      "2023-10-03 16:03:49.951505: I tensorflow/core/grappler/optimizers/custom_graph_optimizer_registry.cc:112] Plugin optimizer for device_type GPU is enabled.\n"
     ]
    },
    {
     "data": {
      "text/html": [
       "<div>\n",
       "<style scoped>\n",
       "    .dataframe tbody tr th:only-of-type {\n",
       "        vertical-align: middle;\n",
       "    }\n",
       "\n",
       "    .dataframe tbody tr th {\n",
       "        vertical-align: top;\n",
       "    }\n",
       "\n",
       "    .dataframe thead th {\n",
       "        text-align: right;\n",
       "    }\n",
       "</style>\n",
       "<table border=\"1\" class=\"dataframe\">\n",
       "  <thead>\n",
       "    <tr style=\"text-align: right;\">\n",
       "      <th></th>\n",
       "      <th>loss</th>\n",
       "    </tr>\n",
       "  </thead>\n",
       "  <tbody>\n",
       "    <tr>\n",
       "      <th>0</th>\n",
       "      <td>12.0</td>\n",
       "    </tr>\n",
       "    <tr>\n",
       "      <th>1</th>\n",
       "      <td>12.0</td>\n",
       "    </tr>\n",
       "    <tr>\n",
       "      <th>2</th>\n",
       "      <td>12.0</td>\n",
       "    </tr>\n",
       "    <tr>\n",
       "      <th>3</th>\n",
       "      <td>12.0</td>\n",
       "    </tr>\n",
       "    <tr>\n",
       "      <th>4</th>\n",
       "      <td>12.0</td>\n",
       "    </tr>\n",
       "  </tbody>\n",
       "</table>\n",
       "</div>"
      ],
      "text/plain": [
       "   loss\n",
       "0  12.0\n",
       "1  12.0\n",
       "2  12.0\n",
       "3  12.0\n",
       "4  12.0"
      ]
     },
     "execution_count": 6,
     "metadata": {},
     "output_type": "execute_result"
    }
   ],
   "source": [
    "# Import packages\n",
    "import matplotlib.pyplot as plt \n",
    "import seaborn as sns \n",
    "colors=sns.light_palette('seagreen', 3) \n",
    "plt.style.use('dark_background')\n",
    "\n",
    "import pandas as pd \n",
    "import numpy as np\n",
    "\n",
    "# Import Tensorflow\n",
    "import tensorflow as tf\n",
    "import keras as keras\n",
    "\n",
    "# Random data points\n",
    "[x, y] = [[1, 2, 3, 4, 5, 4, 5, 10, 3, 2, 8, 7] , [3, 12, 10, 10, 20, 20, 15, 20, 7, 6, 18, 16]] \n",
    "\n",
    "# Convert lists to NumPy arrays\n",
    "x = np.array(x)\n",
    "y = np.array(y)\n",
    "\n",
    "# Reshape input data to (n_samples, n_features)\n",
    "x = x.reshape((-1, 1))\n",
    "\n",
    "# Model\n",
    "model = tf.keras.Sequential([keras.layers.Dense(units=1, input_shape=[1])])\n",
    "\n",
    "model.compile(optimizer='sgd', loss='mean_squared_error')\n",
    "\n",
    "### Model\n",
    "model = tf.keras.Sequential([keras.layers.Dense(units=1, input_shape=[1])])\n",
    "\n",
    "model.compile(optimizer='sgd', loss='mean_squared_error')\n",
    "\n",
    "history = model.fit(x, y, epochs=10, verbose=0) \n",
    "\n",
    "hist = pd.DataFrame(history.history) \n",
    "# hist['epoch'] = history.epoch #wird nicht gebraucht unbedingt\n",
    "hist.head()"
   ]
  },
  {
   "cell_type": "code",
   "execution_count": 7,
   "metadata": {},
   "outputs": [
    {
     "name": "stderr",
     "output_type": "stream",
     "text": [
      "2023-10-03 16:03:50.088257: I tensorflow/core/grappler/optimizers/custom_graph_optimizer_registry.cc:112] Plugin optimizer for device_type GPU is enabled.\n"
     ]
    },
    {
     "data": {
      "text/html": [
       "<div>\n",
       "<style scoped>\n",
       "    .dataframe tbody tr th:only-of-type {\n",
       "        vertical-align: middle;\n",
       "    }\n",
       "\n",
       "    .dataframe tbody tr th {\n",
       "        vertical-align: top;\n",
       "    }\n",
       "\n",
       "    .dataframe thead th {\n",
       "        text-align: right;\n",
       "    }\n",
       "</style>\n",
       "<table border=\"1\" class=\"dataframe\">\n",
       "  <thead>\n",
       "    <tr style=\"text-align: right;\">\n",
       "      <th></th>\n",
       "      <th>loss</th>\n",
       "    </tr>\n",
       "  </thead>\n",
       "  <tbody>\n",
       "    <tr>\n",
       "      <th>0</th>\n",
       "      <td>12.0</td>\n",
       "    </tr>\n",
       "    <tr>\n",
       "      <th>1</th>\n",
       "      <td>12.0</td>\n",
       "    </tr>\n",
       "    <tr>\n",
       "      <th>2</th>\n",
       "      <td>12.0</td>\n",
       "    </tr>\n",
       "    <tr>\n",
       "      <th>3</th>\n",
       "      <td>12.0</td>\n",
       "    </tr>\n",
       "    <tr>\n",
       "      <th>4</th>\n",
       "      <td>12.0</td>\n",
       "    </tr>\n",
       "  </tbody>\n",
       "</table>\n",
       "</div>"
      ],
      "text/plain": [
       "   loss\n",
       "0  12.0\n",
       "1  12.0\n",
       "2  12.0\n",
       "3  12.0\n",
       "4  12.0"
      ]
     },
     "execution_count": 7,
     "metadata": {},
     "output_type": "execute_result"
    }
   ],
   "source": [
    "### Model\n",
    "model = tf.keras.Sequential([keras.layers.Dense(units=1, input_shape=[1])])\n",
    "\n",
    "model.compile(optimizer='sgd', loss='mean_squared_error')\n",
    "\n",
    "history = model.fit(x, y, epochs=10, verbose=0)\n",
    "\n",
    "hist = pd.DataFrame(history.history) \n",
    "# hist['epoch'] = history.epoch #wird nicht gebraucht unbedingt\n",
    "hist.head()"
   ]
  },
  {
   "cell_type": "code",
   "execution_count": 8,
   "metadata": {},
   "outputs": [
    {
     "ename": "ValueError",
     "evalue": "Must pass 2-d input. shape=(12, 3, 1)",
     "output_type": "error",
     "traceback": [
      "\u001b[0;31m---------------------------------------------------------------------------\u001b[0m",
      "\u001b[0;31mValueError\u001b[0m                                Traceback (most recent call last)",
      "\u001b[1;32m/Users/matthiasstollenwerk/VScode/07 Regression Auto-MPG/Regression-from-scratch-Tensorflow-only.ipynb Cell 3\u001b[0m line \u001b[0;36m2\n\u001b[1;32m     <a href='vscode-notebook-cell:/Users/matthiasstollenwerk/VScode/07%20Regression%20Auto-MPG/Regression-from-scratch-Tensorflow-only.ipynb#W6sZmlsZQ%3D%3D?line=21'>22</a>\u001b[0m     \u001b[39mreturn\u001b[39;00m i_, Sxx, df \u001b[39m# Weird hier scheint die Reihenfolge wichtig zu sein \u001b[39;00m\n\u001b[1;32m     <a href='vscode-notebook-cell:/Users/matthiasstollenwerk/VScode/07%20Regression%20Auto-MPG/Regression-from-scratch-Tensorflow-only.ipynb#W6sZmlsZQ%3D%3D?line=23'>24</a>\u001b[0m \u001b[39m### Print Sxx / Syy ###\u001b[39;00m\n\u001b[0;32m---> <a href='vscode-notebook-cell:/Users/matthiasstollenwerk/VScode/07%20Regression%20Auto-MPG/Regression-from-scratch-Tensorflow-only.ipynb#W6sZmlsZQ%3D%3D?line=24'>25</a>\u001b[0m x_, Sxx, df_x \u001b[39m=\u001b[39m CalcSxx(x_values) \n\u001b[1;32m     <a href='vscode-notebook-cell:/Users/matthiasstollenwerk/VScode/07%20Regression%20Auto-MPG/Regression-from-scratch-Tensorflow-only.ipynb#W6sZmlsZQ%3D%3D?line=25'>26</a>\u001b[0m fuck, Syy, df_y \u001b[39m=\u001b[39m CalcSxx(y_values) \n\u001b[1;32m     <a href='vscode-notebook-cell:/Users/matthiasstollenwerk/VScode/07%20Regression%20Auto-MPG/Regression-from-scratch-Tensorflow-only.ipynb#W6sZmlsZQ%3D%3D?line=26'>27</a>\u001b[0m \u001b[39mprint\u001b[39m(\u001b[39m'\u001b[39m\u001b[39mSxx = \u001b[39m\u001b[39m{}\u001b[39;00m\u001b[39m'\u001b[39m\u001b[39m.\u001b[39mformat(Sxx)) \n",
      "\u001b[1;32m/Users/matthiasstollenwerk/VScode/07 Regression Auto-MPG/Regression-from-scratch-Tensorflow-only.ipynb Cell 3\u001b[0m line \u001b[0;36m2\n\u001b[1;32m     <a href='vscode-notebook-cell:/Users/matthiasstollenwerk/VScode/07%20Regression%20Auto-MPG/Regression-from-scratch-Tensorflow-only.ipynb#W6sZmlsZQ%3D%3D?line=16'>17</a>\u001b[0m     table\u001b[39m.\u001b[39mappend([i, i\u001b[39m-\u001b[39mi_,(i \u001b[39m-\u001b[39m i_)\u001b[39m*\u001b[39m\u001b[39m*\u001b[39m\u001b[39m2\u001b[39m]) \n\u001b[1;32m     <a href='vscode-notebook-cell:/Users/matthiasstollenwerk/VScode/07%20Regression%20Auto-MPG/Regression-from-scratch-Tensorflow-only.ipynb#W6sZmlsZQ%3D%3D?line=18'>19</a>\u001b[0m np_array \u001b[39m=\u001b[39m np\u001b[39m.\u001b[39marray(table) \u001b[39m# aus liste machen wir array \u001b[39;00m\n\u001b[0;32m---> <a href='vscode-notebook-cell:/Users/matthiasstollenwerk/VScode/07%20Regression%20Auto-MPG/Regression-from-scratch-Tensorflow-only.ipynb#W6sZmlsZQ%3D%3D?line=19'>20</a>\u001b[0m df \u001b[39m=\u001b[39m pd\u001b[39m.\u001b[39;49mDataFrame(np_array, columns\u001b[39m=\u001b[39;49mcolumns) \n\u001b[1;32m     <a href='vscode-notebook-cell:/Users/matthiasstollenwerk/VScode/07%20Regression%20Auto-MPG/Regression-from-scratch-Tensorflow-only.ipynb#W6sZmlsZQ%3D%3D?line=20'>21</a>\u001b[0m Sxx \u001b[39m=\u001b[39m \u001b[39msum\u001b[39m(df[\u001b[39m'\u001b[39m\u001b[39m(x-x_)^2\u001b[39m\u001b[39m'\u001b[39m]) \n\u001b[1;32m     <a href='vscode-notebook-cell:/Users/matthiasstollenwerk/VScode/07%20Regression%20Auto-MPG/Regression-from-scratch-Tensorflow-only.ipynb#W6sZmlsZQ%3D%3D?line=21'>22</a>\u001b[0m \u001b[39mreturn\u001b[39;00m i_, Sxx, df\n",
      "File \u001b[0;32m/opt/homebrew/Caskroom/miniforge/base/envs/tensorflow/lib/python3.9/site-packages/pandas/core/frame.py:694\u001b[0m, in \u001b[0;36mDataFrame.__init__\u001b[0;34m(self, data, index, columns, dtype, copy)\u001b[0m\n\u001b[1;32m    684\u001b[0m         mgr \u001b[39m=\u001b[39m dict_to_mgr(\n\u001b[1;32m    685\u001b[0m             \u001b[39m# error: Item \"ndarray\" of \"Union[ndarray, Series, Index]\" has no\u001b[39;00m\n\u001b[1;32m    686\u001b[0m             \u001b[39m# attribute \"name\"\u001b[39;00m\n\u001b[0;32m   (...)\u001b[0m\n\u001b[1;32m    691\u001b[0m             typ\u001b[39m=\u001b[39mmanager,\n\u001b[1;32m    692\u001b[0m         )\n\u001b[1;32m    693\u001b[0m     \u001b[39melse\u001b[39;00m:\n\u001b[0;32m--> 694\u001b[0m         mgr \u001b[39m=\u001b[39m ndarray_to_mgr(\n\u001b[1;32m    695\u001b[0m             data,\n\u001b[1;32m    696\u001b[0m             index,\n\u001b[1;32m    697\u001b[0m             columns,\n\u001b[1;32m    698\u001b[0m             dtype\u001b[39m=\u001b[39;49mdtype,\n\u001b[1;32m    699\u001b[0m             copy\u001b[39m=\u001b[39;49mcopy,\n\u001b[1;32m    700\u001b[0m             typ\u001b[39m=\u001b[39;49mmanager,\n\u001b[1;32m    701\u001b[0m         )\n\u001b[1;32m    703\u001b[0m \u001b[39m# For data is list-like, or Iterable (will consume into list)\u001b[39;00m\n\u001b[1;32m    704\u001b[0m \u001b[39melif\u001b[39;00m is_list_like(data):\n",
      "File \u001b[0;32m/opt/homebrew/Caskroom/miniforge/base/envs/tensorflow/lib/python3.9/site-packages/pandas/core/internals/construction.py:331\u001b[0m, in \u001b[0;36mndarray_to_mgr\u001b[0;34m(values, index, columns, dtype, copy, typ)\u001b[0m\n\u001b[1;32m    326\u001b[0m         values \u001b[39m=\u001b[39m values\u001b[39m.\u001b[39mreshape(\u001b[39m-\u001b[39m\u001b[39m1\u001b[39m, \u001b[39m1\u001b[39m)\n\u001b[1;32m    328\u001b[0m \u001b[39melse\u001b[39;00m:\n\u001b[1;32m    329\u001b[0m     \u001b[39m# by definition an array here\u001b[39;00m\n\u001b[1;32m    330\u001b[0m     \u001b[39m# the dtypes will be coerced to a single dtype\u001b[39;00m\n\u001b[0;32m--> 331\u001b[0m     values \u001b[39m=\u001b[39m _prep_ndarray(values, copy\u001b[39m=\u001b[39;49mcopy_on_sanitize)\n\u001b[1;32m    333\u001b[0m \u001b[39mif\u001b[39;00m dtype \u001b[39mis\u001b[39;00m \u001b[39mnot\u001b[39;00m \u001b[39mNone\u001b[39;00m \u001b[39mand\u001b[39;00m \u001b[39mnot\u001b[39;00m is_dtype_equal(values\u001b[39m.\u001b[39mdtype, dtype):\n\u001b[1;32m    334\u001b[0m     shape \u001b[39m=\u001b[39m values\u001b[39m.\u001b[39mshape\n",
      "File \u001b[0;32m/opt/homebrew/Caskroom/miniforge/base/envs/tensorflow/lib/python3.9/site-packages/pandas/core/internals/construction.py:591\u001b[0m, in \u001b[0;36m_prep_ndarray\u001b[0;34m(values, copy)\u001b[0m\n\u001b[1;32m    589\u001b[0m     values \u001b[39m=\u001b[39m values\u001b[39m.\u001b[39mreshape((values\u001b[39m.\u001b[39mshape[\u001b[39m0\u001b[39m], \u001b[39m1\u001b[39m))\n\u001b[1;32m    590\u001b[0m \u001b[39melif\u001b[39;00m values\u001b[39m.\u001b[39mndim \u001b[39m!=\u001b[39m \u001b[39m2\u001b[39m:\n\u001b[0;32m--> 591\u001b[0m     \u001b[39mraise\u001b[39;00m \u001b[39mValueError\u001b[39;00m(\u001b[39mf\u001b[39m\u001b[39m\"\u001b[39m\u001b[39mMust pass 2-d input. shape=\u001b[39m\u001b[39m{\u001b[39;00mvalues\u001b[39m.\u001b[39mshape\u001b[39m}\u001b[39;00m\u001b[39m\"\u001b[39m)\n\u001b[1;32m    593\u001b[0m \u001b[39mreturn\u001b[39;00m values\n",
      "\u001b[0;31mValueError\u001b[0m: Must pass 2-d input. shape=(12, 3, 1)"
     ]
    }
   ],
   "source": [
    "import numpy as np\n",
    "\n",
    "### ADD Correct Regression \n",
    "\n",
    "x_values, y_values = x, y\n",
    "\n",
    "### Sxx bzw. Syy berechnen \n",
    "def CalcSxx (liste): \n",
    "    ### Mittelwert berechnen von X-Werten\n",
    "    i_ = sum(liste)/len(liste) \n",
    "    ### Tabelle um Regressionsgerade zu berechnen\n",
    "    columns = ['x', 'x-x_', '(x-x_)^2'] \n",
    "    table = [] \n",
    "\n",
    "    for i in liste: \n",
    "        # print('Für x = {} und x - x_ = {} gilt die quadratische Abweichung: {}'.format(i, i-i_, (i - i_)**2)\n",
    "        table.append([i, i-i_,(i - i_)**2]) \n",
    "\n",
    "    np_array = np.array(table) # aus liste machen wir array \n",
    "    df = pd.DataFrame(np_array, columns=columns) \n",
    "    Sxx = sum(df['(x-x_)^2']) \n",
    "    return i_, Sxx, df # Weird hier scheint die Reihenfolge wichtig zu sein \n",
    "\n",
    "### Print Sxx / Syy ###\n",
    "x_, Sxx, df_x = CalcSxx(x_values) \n",
    "fuck, Syy, df_y = CalcSxx(y_values) \n",
    "print('Sxx = {}'.format(Sxx)) \n",
    "print('Syy = {}'.format(Syy)) \n",
    "\n",
    "### Sxy berechnen\n",
    "df2 = pd.concat([df_x['x-x_'], df_y['x-x_']], axis=1)\n",
    "df2.columns=['x-x_', 'y-y_'] # rename columns\n",
    "df2['Values'] = df2['x-x_'] * df2['y-y_'] # mnultiply rows\n",
    "Sxy = sum(df2['Values']) \n",
    "\n",
    "### Print Sxy ###\n",
    "print('Sxy = {}\\n'.format(Sxy)) \n",
    "### ------------------- ###\n",
    "\n",
    "### Berechnung der Geraden\n",
    "M = Sxy / Sxx ; B = fuck - M * x_ \n",
    "\n",
    "def linear_gradient (X): \n",
    "    y=M*float(X)+B \n",
    "    return y \n",
    "\n",
    "### MEAN SQUARE ERROR ### mse = 1/n * (y_ - y)**2 # Jeder Datenpunkt wird durchgegangen y_ - y\n",
    "MSE = 0 \n",
    "for i in range(0,len(x_values)): \n",
    "    #print('Y-Wert real = {} and forecast = {}'.format(y_values[i], linear_gradient(x_values[i])))\n",
    "    MSE=MSE+1/len(x_values)*((linear_gradient(x_values[i])-y_values[i]))**2 \n",
    "print('MSE = {}'.format(MSE)) \n",
    "\n",
    "### PLOTTEN ### \n",
    "x_regression = [] ; y_regression_correct = [] \n",
    "for i in range(0,len(x_values)): \n",
    "    y_regression_correct.append(linear_gradient(x_values[i])) \n",
    "\n",
    "colors=sns.light_palette('seagreen', 3) \n",
    "plt.style.use('dark_background') # for customizing theme\n",
    "plt.plot(x_values, y_values, 'o', label=\"Original Data\") \n",
    "plt.plot(x_values, y_regression_correct, label=\"Regression Curve\") \n",
    "\n"
   ]
  },
  {
   "cell_type": "code",
   "execution_count": null,
   "metadata": {},
   "outputs": [
    {
     "name": "stderr",
     "output_type": "stream",
     "text": [
      "2023-10-03 16:01:10.960881: I tensorflow/core/grappler/optimizers/custom_graph_optimizer_registry.cc:112] Plugin optimizer for device_type GPU is enabled.\n"
     ]
    },
    {
     "data": {
      "image/png": "[encoded data removed]",
      "text/plain": [
       "<Figure size 1000x1000 with 1 Axes>"
      ]
     },
     "metadata": {},
     "output_type": "display_data"
    }
   ],
   "source": [
    "\n",
    "y_tensorflow = model.predict(x) \n",
    "\n",
    "### PLOTTEN ### \n",
    "fig = plt.figure(figsize=(10, 10)) # width, height\n",
    "plt.plot(x, y, 'o', label=\"Original Data\")  \n",
    "# plt.plot(x, y_regression, label=\"Regression Curve 100 Epochs\")\n",
    "\n",
    "plt.plot(x, y_tensorflow, label='Tensorflow Curve 100 Epochs')\n",
    "\n",
    "plt.plot(x_values, y_regression_correct, label=\"Correct Regression Curve\") \n",
    "\n",
    "plt.legend()\n",
    "plt.show() "
   ]
  },
  {
   "cell_type": "code",
   "execution_count": null,
   "metadata": {},
   "outputs": [],
   "source": []
  }
 ],
 "metadata": {
  "kernelspec": {
   "display_name": "base",
   "language": "python",
   "name": "python3"
  },
  "language_info": {
   "codemirror_mode": {
    "name": "ipython",
    "version": 3
   },
   "file_extension": ".py",
   "mimetype": "text/x-python",
   "name": "python",
   "nbconvert_exporter": "python",
   "pygments_lexer": "ipython3",
   "version": "3.9.15"
  },
  "orig_nbformat": 4,
  "vscode": {
   "interpreter": {
    "hash": "c6e4e9f98eb68ad3b7c296f83d20e6de614cb42e90992a65aa266555a3137d0d"
   }
  }
 },
 "nbformat": 4,
 "nbformat_minor": 2
}
